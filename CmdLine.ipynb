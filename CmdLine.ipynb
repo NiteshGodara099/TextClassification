{
 "cells": [
  {
   "cell_type": "code",
   "execution_count": 1,
   "id": "17c52ca8-8026-438d-8a7e-29d4b3520aa2",
   "metadata": {},
   "outputs": [],
   "source": [
    "import joblib"
   ]
  },
  {
   "cell_type": "code",
   "execution_count": 3,
   "id": "3ba1c2c2-dd2b-484f-a667-e0408ca07144",
   "metadata": {},
   "outputs": [],
   "source": [
    "model = joblib.load('sentiment_model.pkl')"
   ]
  },
  {
   "cell_type": "code",
   "execution_count": 5,
   "id": "a0438ec2-4a29-4d67-b53f-3cecb197b6f4",
   "metadata": {},
   "outputs": [],
   "source": [
    "vectorizer = joblib.load('vectorizer.pkl')"
   ]
  },
  {
   "cell_type": "code",
   "execution_count": null,
   "id": "2dad7096-4b30-4e3b-acad-dfd3e29238f3",
   "metadata": {},
   "outputs": [
    {
     "name": "stdin",
     "output_type": "stream",
     "text": [
      "\n",
      " Enter a review (or type exit to quit):  tatti\n"
     ]
    },
    {
     "name": "stdout",
     "output_type": "stream",
     "text": [
      "Predicted Sentiment: 😠 Negative\n"
     ]
    },
    {
     "name": "stdin",
     "output_type": "stream",
     "text": [
      "\n",
      " Enter a review (or type exit to quit):  chutiya\n"
     ]
    },
    {
     "name": "stdout",
     "output_type": "stream",
     "text": [
      "Predicted Sentiment: 😠 Negative\n"
     ]
    },
    {
     "name": "stdin",
     "output_type": "stream",
     "text": [
      "\n",
      " Enter a review (or type exit to quit):  lund\n"
     ]
    },
    {
     "name": "stdout",
     "output_type": "stream",
     "text": [
      "Predicted Sentiment: 😠 Negative\n"
     ]
    },
    {
     "name": "stdin",
     "output_type": "stream",
     "text": [
      "\n",
      " Enter a review (or type exit to quit):  bhadva\n"
     ]
    },
    {
     "name": "stdout",
     "output_type": "stream",
     "text": [
      "Predicted Sentiment: 😠 Negative\n"
     ]
    },
    {
     "name": "stdin",
     "output_type": "stream",
     "text": [
      "\n",
      " Enter a review (or type exit to quit):  achcha hai\n"
     ]
    },
    {
     "name": "stdout",
     "output_type": "stream",
     "text": [
      "Predicted Sentiment: 😠 Negative\n"
     ]
    },
    {
     "name": "stdin",
     "output_type": "stream",
     "text": [
      "\n",
      " Enter a review (or type exit to quit):  thik hai\n"
     ]
    },
    {
     "name": "stdout",
     "output_type": "stream",
     "text": [
      "Predicted Sentiment: 😠 Negative\n"
     ]
    },
    {
     "name": "stdin",
     "output_type": "stream",
     "text": [
      "\n",
      " Enter a review (or type exit to quit):  nice\n"
     ]
    },
    {
     "name": "stdout",
     "output_type": "stream",
     "text": [
      "Predicted Sentiment: 😃 Positive\n"
     ]
    },
    {
     "name": "stdin",
     "output_type": "stream",
     "text": [
      "\n",
      " Enter a review (or type exit to quit):  very nice\n"
     ]
    },
    {
     "name": "stdout",
     "output_type": "stream",
     "text": [
      "Predicted Sentiment: 😃 Positive\n"
     ]
    },
    {
     "name": "stdin",
     "output_type": "stream",
     "text": [
      "\n",
      " Enter a review (or type exit to quit):  damn\n"
     ]
    },
    {
     "name": "stdout",
     "output_type": "stream",
     "text": [
      "Predicted Sentiment: 😃 Positive\n"
     ]
    }
   ],
   "source": [
    "while True:\n",
    "    user_input = input('\\n Enter a review (or type exit to quit): ')\n",
    "    if user_input.lower() == 'exit':\n",
    "        print('Exiting.....')\n",
    "        break\n",
    "    input_vector = vectorizer.transform([user_input])\n",
    "    prediction = model.predict(input_vector)[0]\n",
    "    sentiment = {\n",
    "    1.0: '😠 Negative',\n",
    "    5.0: '😃 Positive'\n",
    "}.get(prediction, \"Unknown\")\n",
    "    print(f\"Predicted Sentiment: {sentiment}\")"
   ]
  },
  {
   "cell_type": "code",
   "execution_count": null,
   "id": "1a86de38-a6fe-430a-a998-773ab580cd96",
   "metadata": {},
   "outputs": [],
   "source": []
  }
 ],
 "metadata": {
  "kernelspec": {
   "display_name": "Python [conda env:base] *",
   "language": "python",
   "name": "conda-base-py"
  },
  "language_info": {
   "codemirror_mode": {
    "name": "ipython",
    "version": 3
   },
   "file_extension": ".py",
   "mimetype": "text/x-python",
   "name": "python",
   "nbconvert_exporter": "python",
   "pygments_lexer": "ipython3",
   "version": "3.12.3"
  }
 },
 "nbformat": 4,
 "nbformat_minor": 5
}
